{
 "cells": [
  {
   "cell_type": "markdown",
   "metadata": {},
   "source": [
    "# Range Bot"
   ]
  },
  {
   "cell_type": "markdown",
   "metadata": {},
   "source": [
    "### Importing Libraries"
   ]
  },
  {
   "cell_type": "code",
   "execution_count": null,
   "metadata": {},
   "outputs": [],
   "source": [
    "from datetime import datetime, timedelta\n",
    "from ib_insync import *\n",
    "util.startLoop()\n",
    "import pandas as pd\n",
    "from math import floor\n",
    "import threading\n",
    "from time import sleep\n",
    "from apscheduler.schedulers.background import BackgroundScheduler\n",
    "from nested_lookup import nested_lookup\n",
    "from Range_class import Ranguito"
   ]
  },
  {
   "cell_type": "markdown",
   "metadata": {},
   "source": [
    "### Input variables"
   ]
  },
  {
   "cell_type": "code",
   "execution_count": null,
   "metadata": {},
   "outputs": [],
   "source": [
    "initial_hour = '15:54:00'\n",
    "final_hour = '15:59:00'\n",
    "client = 5\n",
    "instrument = 'EURUSD'\n",
    "temporality = 1\n",
    "num_bars = 1\n",
    "target = 0.00015\n",
    "type_con = 'forex'"
   ]
  },
  {
   "cell_type": "code",
   "execution_count": null,
   "metadata": {},
   "outputs": [],
   "source": [
    "account = 20000\n",
    "risk = 0.01\n",
    "mail_1 = \"aestrad494@gmail.com\"\n",
    "mail_2 = \"ibpy.notifications@gmail.com\"\n",
    "mails = [mail_2]#, mail_2]"
   ]
  },
  {
   "cell_type": "markdown",
   "metadata": {},
   "source": [
    "### Initializing variables"
   ]
  },
  {
   "cell_type": "code",
   "execution_count": null,
   "metadata": {},
   "outputs": [],
   "source": [
    "entry_price_b = 0\n",
    "entry_price_s = 0\n",
    "exit_price_b = 0\n",
    "exit_price_s = 0\n",
    "mail_buy_entry = False\n",
    "mail_sell_entry = False\n",
    "mail_buy_exit = False\n",
    "mail_sell_exit = False\n",
    "buy_closed_by_time = False\n",
    "sell_closed_by_time = False"
   ]
  },
  {
   "cell_type": "markdown",
   "metadata": {},
   "source": [
    "### Calculating hour and weekday"
   ]
  },
  {
   "cell_type": "code",
   "execution_count": null,
   "metadata": {},
   "outputs": [],
   "source": [
    "def calc_times():\n",
    "    global date, hour, weekday\n",
    "    date, hour, weekday = ranguito.day_and_hour()"
   ]
  },
  {
   "cell_type": "markdown",
   "metadata": {},
   "source": [
    "### Allowing Trading"
   ]
  },
  {
   "cell_type": "code",
   "execution_count": null,
   "metadata": {},
   "outputs": [],
   "source": [
    "def allowing_trading():\n",
    "    global allow_trading\n",
    "    allow_trading = ranguito.allow_trading(hour,weekday)"
   ]
  },
  {
   "cell_type": "markdown",
   "metadata": {},
   "source": [
    "### Instantiating Classes"
   ]
  },
  {
   "cell_type": "code",
   "execution_count": null,
   "metadata": {},
   "outputs": [],
   "source": [
    "ib = IB()\n",
    "ranguito = Ranguito(instrument,type_con,num_bars,temporality,target,initial_hour,final_hour,client)"
   ]
  },
  {
   "cell_type": "code",
   "execution_count": null,
   "metadata": {},
   "outputs": [],
   "source": [
    "sched = BackgroundScheduler()\n",
    "sched.start()"
   ]
  },
  {
   "cell_type": "markdown",
   "metadata": {},
   "source": [
    "### Ib Connection"
   ]
  },
  {
   "cell_type": "code",
   "execution_count": null,
   "metadata": {},
   "outputs": [],
   "source": [
    "ib.connect('127.0.0.1',7497,client)"
   ]
  },
  {
   "cell_type": "markdown",
   "metadata": {},
   "source": [
    "### Contract Creation"
   ]
  },
  {
   "cell_type": "code",
   "execution_count": null,
   "metadata": {},
   "outputs": [],
   "source": [
    "contract = Forex(instrument)"
   ]
  },
  {
   "cell_type": "markdown",
   "metadata": {},
   "source": [
    "### Download Historical"
   ]
  },
  {
   "cell_type": "code",
   "execution_count": null,
   "metadata": {},
   "outputs": [],
   "source": [
    "historical_0 = ranguito.download_data(ib, contract)\n",
    "historical = util.df(historical_0).set_index('date')\n",
    "historical.drop(['volume','average','barCount'], axis = 1, inplace = True)"
   ]
  },
  {
   "cell_type": "code",
   "execution_count": null,
   "metadata": {},
   "outputs": [],
   "source": [
    "def hist_to_df():\n",
    "    global historical\n",
    "    historical = util.df(historical_0).set_index('date')\n",
    "    historical.drop(['volume','average','barCount'], axis = 1, inplace = True)\n",
    "    return(historical)"
   ]
  },
  {
   "cell_type": "markdown",
   "metadata": {},
   "source": [
    "### Range Calculation"
   ]
  },
  {
   "cell_type": "code",
   "execution_count": null,
   "metadata": {},
   "outputs": [],
   "source": [
    "hour_range = pd.to_datetime(initial_hour) + timedelta(minutes = num_bars*temporality)"
   ]
  },
  {
   "cell_type": "code",
   "execution_count": null,
   "metadata": {},
   "outputs": [],
   "source": [
    "def max_min_lots():\n",
    "    global allow_trading\n",
    "    global maximum, minimum, lots\n",
    "    maximum, minimum, lots = ranguito.max_and_min(historical, date, 5, account, risk)"
   ]
  },
  {
   "cell_type": "markdown",
   "metadata": {},
   "source": [
    "### Send Orders"
   ]
  },
  {
   "cell_type": "code",
   "execution_count": null,
   "metadata": {},
   "outputs": [],
   "source": [
    "hour_orders = pd.to_datetime(hour_range) + timedelta(seconds = 1)"
   ]
  },
  {
   "cell_type": "code",
   "execution_count": null,
   "metadata": {},
   "outputs": [],
   "source": [
    "def send_orders():\n",
    "    global id_buy, id_sell\n",
    "    global id_buy_entry, id_sell_entry\n",
    "    global margin_entry_buy, margin_entry_sell\n",
    "    global orders_buy, orders_sell\n",
    "    id_buy, orders_buy, margin_entry_buy = ranguito.bracket_stop_order(ib, 'BUY', lots, contract, maximum, maximum + target, minimum)\n",
    "    id_buy_entry = id_buy[0]\n",
    "    id_sell, orders_sell, margin_entry_sell = ranguito.bracket_stop_order(ib, 'SELL', lots, contract, minimum, minimum - target, maximum)\n",
    "    id_sell_entry = id_sell[0]"
   ]
  },
  {
   "cell_type": "markdown",
   "metadata": {},
   "source": [
    "### Entry Values"
   ]
  },
  {
   "cell_type": "code",
   "execution_count": null,
   "metadata": {},
   "outputs": [],
   "source": [
    "def calc_entry_values():\n",
    "    global entry_price_b, entry_price_s\n",
    "    global commission_entry_buy, commission_entry_sell\n",
    "    if pd.to_datetime(hour) > pd.to_datetime(str(hour_range)):\n",
    "        if historical['high'][-1] > maximum:\n",
    "            commission_entry_buy, entry_price_b = ranguito.order_values(util.tree(ib.fills()), id_buy_entry, lots)\n",
    "        if historical['low'][-1] < minimum:\n",
    "            commission_entry_sell, entry_price_s = ranguito.order_values(util.tree(ib.fills()), id_sell_entry, lots)"
   ]
  },
  {
   "cell_type": "markdown",
   "metadata": {},
   "source": [
    "### Exit Values"
   ]
  },
  {
   "cell_type": "code",
   "execution_count": null,
   "metadata": {},
   "outputs": [],
   "source": [
    "def calc_exit_values():\n",
    "    global exit_price_b, exit_price_s\n",
    "    global commission_exit_buy, commission_exit_sell\n",
    "    global profit_s, profit_b\n",
    "    if pd.to_datetime(hour) > pd.to_datetime(str(hour_range)) and id_sell_entry > 0:\n",
    "        id_list = [id_buy[1],id_buy[2],id_sell[1],id_sell[2]]\n",
    "        id_sell_exit, id_buy_exit = ranguito.filled_id(util.tree(ib.fills()), id_list)\n",
    "        if not sell_closed_by_time:\n",
    "            commission_exit_buy, exit_price_b, profit_s = ranguito.order_values(util.tree(ib.fills()), id_buy_exit, lots, True)\n",
    "        if not buy_closed_by_time:\n",
    "            commission_exit_sell, exit_price_s, profit_b = ranguito.order_values(util.tree(ib.fills()), id_sell_exit, lots, True)"
   ]
  },
  {
   "cell_type": "markdown",
   "metadata": {},
   "source": [
    "### Final Profit"
   ]
  },
  {
   "cell_type": "code",
   "execution_count": null,
   "metadata": {},
   "outputs": [],
   "source": [
    "def calc_final_profit():\n",
    "    global profit_buy, profit_sell\n",
    "    if pd.to_datetime(hour) > pd.to_datetime(str(hour_range)):\n",
    "        if (entry_price_b > 0) and (exit_price_s > 0):\n",
    "            profit_buy = round(((exit_price_s - entry_price_b) * lots) - commission_entry_buy - commission_exit_sell,2)\n",
    "        if (entry_price_s > 0) and (exit_price_b > 0):\n",
    "            profit_sell = round(((entry_price_s - exit_price_b) * lots) - commission_entry_sell - commission_exit_buy,2)"
   ]
  },
  {
   "cell_type": "markdown",
   "metadata": {},
   "source": [
    "### Close Orders"
   ]
  },
  {
   "cell_type": "code",
   "execution_count": null,
   "metadata": {},
   "outputs": [],
   "source": [
    "def cancel_orders():\n",
    "    global exit_price_b, exit_price_s\n",
    "    global id_sell_exit, id_buy_exit\n",
    "    global buy_closed_by_time, sell_closed_by_time \n",
    "    global commission_exit_buy, commission_exit_sell\n",
    "    \n",
    "    if(entry_price_b == 0):\n",
    "        ib.cancelOrder(orders_buy.parent)\n",
    "    else:\n",
    "        if(exit_price_s == 0):\n",
    "            ib.cancelOrder(orders_buy.stopLoss)\n",
    "            buy_closed_by_time = True\n",
    "            id_sell_exit, margin_sell_exit = ranguito.order_send(ib, 'SELL', lots, contract)\n",
    "            commission_exit_sell, exit_price_s, profit_b = ranguito.order_values(util.tree(ib.fills()), id_sell_exit, lots, True)\n",
    "    \n",
    "    if(entry_price_s == 0):\n",
    "        ib.cancelOrder(orders_sell.parent)\n",
    "    else:\n",
    "        if(exit_price_b == 0):\n",
    "            ib.cancelOrder(orders_sell.stopLoss)\n",
    "            sell_closed_by_time = True\n",
    "            id_buy_exit, margin_buy_exit = ranguito.order_send(ib, 'BUY', lots, contract)\n",
    "            commission_exit_buy, exit_price_b, profit_s = ranguito.order_values(util.tree(ib.fills()), id_buy_exit, lots, True)"
   ]
  },
  {
   "cell_type": "markdown",
   "metadata": {},
   "source": [
    "### Send emails"
   ]
  },
  {
   "cell_type": "code",
   "execution_count": null,
   "metadata": {},
   "outputs": [],
   "source": [
    "def sending_emails():\n",
    "    global mail_buy_entry, mail_sell_entry, mail_buy_exit, mail_sell_exit\n",
    "    #Mail for entries\n",
    "    if (entry_price_b > 0) and not mail_buy_entry:\n",
    "        subject_entry_buy = 'Entry Buy Notification: Ranguito'\n",
    "        msg_entry_buy = 'Buy Opened in ' + str(instrument) + '\\nPrice: ' + str(entry_price_b) +\\\n",
    "                        '\\nLots: ' + str(lots) + '\\nReq.Margin(ib): ' + str(margin_entry_buy) +\\\n",
    "                        '\\nAt: ' + str(hour)\n",
    "        ranguito.send_email(subject_entry_buy, msg_entry_buy, mails)\n",
    "        mail_buy_entry = True\n",
    "    if (entry_price_s > 0) and not mail_sell_entry:  \n",
    "        subject_entry_sell = 'Entry Sell Notification: Ranguito'\n",
    "        msg_entry_sell = 'Sell Opened in ' + str(instrument) + '\\nPrice: ' + str(entry_price_s) +\\\n",
    "                         '\\nLots: ' + str(lots) + '\\nReq.Margin(ib): ' + str(margin_entry_sell) +\\\n",
    "                         '\\nAt: ' + str(hour)\n",
    "        ranguito.send_email(subject_entry_sell, msg_entry_sell, mails)\n",
    "        mail_sell_entry = True\n",
    "    \n",
    "    #Mail for exits\n",
    "    if mail_buy_entry and (exit_price_s > 0) and not mail_buy_exit :\n",
    "        subject_exit_buy = 'Exit Buy Notification: Ranguito'\n",
    "        msg_exit_buy = 'Buy Closed in ' + str(instrument) + '\\nPrice: ' + str(exit_price_s) +\\\n",
    "                       '\\nProfit(USD): ' + str(profit_buy) +\\\n",
    "                       '\\ncommissions: ' + str(commission_entry_buy + commission_exit_sell) +\\\n",
    "                       '\\nAt: ' + str(hour)\n",
    "        ranguito.send_email(subject_exit_buy, msg_exit_buy, mails)\n",
    "        mail_buy_exit = True\n",
    "    if mail_sell_entry and (exit_price_b > 0) and not mail_sell_exit :\n",
    "        subject_exit_sell = 'Exit Sell Notification: Ranguito'\n",
    "        msg_exit_sell = 'Sell Closed in ' + str(instrument) + '\\nPrice: ' + str(exit_price_b) +\\\n",
    "                        '\\nProfit(USD): ' + str(profit_sell) +\\\n",
    "                        '\\ncommissions: ' + str(commission_entry_sell + commission_exit_buy) +\\\n",
    "                        '\\nAt: ' + str(hour)\n",
    "        ranguito.send_email(subject_exit_sell, msg_exit_sell, mails)\n",
    "        mail_sell_exit = True"
   ]
  },
  {
   "cell_type": "markdown",
   "metadata": {},
   "source": [
    "### Scheduling Functions"
   ]
  },
  {
   "cell_type": "markdown",
   "metadata": {},
   "source": [
    "#### - Each second Threading"
   ]
  },
  {
   "cell_type": "code",
   "execution_count": null,
   "metadata": {},
   "outputs": [],
   "source": [
    "def back_1():\n",
    "    while True:\n",
    "        calc_times()\n",
    "        allowing_trading()\n",
    "        hist_to_df()\n",
    "        sleep(1)\n",
    "threading.Thread(name='background', target=back_1).start()"
   ]
  },
  {
   "cell_type": "markdown",
   "metadata": {},
   "source": [
    "#### - Fixed time"
   ]
  },
  {
   "cell_type": "code",
   "execution_count": null,
   "metadata": {
    "scrolled": false
   },
   "outputs": [],
   "source": [
    "ib.schedule(pd.to_datetime(str(hour_range)), max_min_lots)\n",
    "ib.schedule(pd.to_datetime(str(hour_orders)), send_orders)\n",
    "ib.schedule(pd.to_datetime(final_hour), cancel_orders)"
   ]
  },
  {
   "cell_type": "markdown",
   "metadata": {},
   "source": [
    "#### - Each ten seconds scheduler"
   ]
  },
  {
   "cell_type": "code",
   "execution_count": null,
   "metadata": {},
   "outputs": [],
   "source": [
    "sched.add_job(calc_entry_values,trigger = 'interval', seconds = 1)\n",
    "sched.add_job(calc_exit_values,trigger = 'interval', seconds = 1)\n",
    "sched.add_job(calc_final_profit,trigger = 'interval', seconds = 1)\n",
    "sched.add_job(sending_emails,trigger = 'interval', seconds = 10)"
   ]
  }
 ],
 "metadata": {
  "kernelspec": {
   "display_name": "Python 3",
   "language": "python",
   "name": "python3"
  },
  "language_info": {
   "codemirror_mode": {
    "name": "ipython",
    "version": 3
   },
   "file_extension": ".py",
   "mimetype": "text/x-python",
   "name": "python",
   "nbconvert_exporter": "python",
   "pygments_lexer": "ipython3",
   "version": "3.7.3"
  }
 },
 "nbformat": 4,
 "nbformat_minor": 2
}
