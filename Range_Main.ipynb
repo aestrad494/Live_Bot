{
 "cells": [
  {
   "cell_type": "code",
   "execution_count": 1,
   "metadata": {},
   "outputs": [],
   "source": [
    "from ib_insync import *\n",
    "util.startLoop()\n",
    "import pandas as pd\n",
    "import numpy as np\n",
    "import datetime\n",
    "import calendar\n",
    "import time\n",
    "from IPython.display import clear_output\n",
    "import threading\n",
    "from nested_lookup import nested_lookup\n",
    "from apscheduler.schedulers.background import BackgroundScheduler\n",
    "import asyncio\n",
    "import pytz\n",
    "import smtplib\n",
    "import math\n",
    "from apscheduler.schedulers.asyncio import AsyncIOScheduler\n",
    "import asyncio\n",
    "util.patchAsyncio()\n",
    "from Range_class import Ranguito"
   ]
  },
  {
   "cell_type": "code",
   "execution_count": null,
   "metadata": {},
   "outputs": [],
   "source": [
    "inst = 'AAPL'               #instrument\n",
    "type_con = 'stock'        #contract type\n",
    "num_bars = 1              #number of bars to create the range\n",
    "tempo = 1                 #bars temporality\n",
    "target = 1.07             #target\n",
    "hora_ini = '08:30:00'     #initial hour to allow trading\n",
    "hora_fin = '14:59:00'     #final hour to allow trading\n",
    "client = 8 "
   ]
  },
  {
   "cell_type": "code",
   "execution_count": null,
   "metadata": {},
   "outputs": [],
   "source": [
    "if type_con == 'forex':\n",
    "    tick_val = 0.00001\n",
    "    digits = 5\n",
    "elif type_con == 'stock' or type_con == 'future':\n",
    "    tick_val = 0.01\n",
    "    digits = 2"
   ]
  },
  {
   "cell_type": "code",
   "execution_count": null,
   "metadata": {},
   "outputs": [],
   "source": [
    "account = 20000\n",
    "risk = 0.001\n",
    "mail_1 = \"aestrad494@gmail.com\"\n",
    "mail_2 = \"ibpy.notifications@gmail.com\"\n",
    "mails = [mail_2]#, mail_2]\n",
    "obj_ticks = target/tick_val"
   ]
  },
  {
   "cell_type": "code",
   "execution_count": null,
   "metadata": {},
   "outputs": [],
   "source": [
    "maxi = 0                  #maximum price of the range\n",
    "mini = 0                  #minimum price of the price\n",
    "lots = 0                  #Lots quantity\n",
    "buys = 0                  #number of total opened buys\n",
    "sells = 0                 #number of total opened sells\n",
    "entry_price_b = 0         #entry price of buy operations\n",
    "entry_price_s = 0         #entry price of sell operations\n",
    "profit_buy = 0            #current profit of buy operations\n",
    "profit_sell = 0           #current profit of sell operations\n",
    "exit_price_b = 0          #exit price of buy operations\n",
    "exit_price_s = 0          #exit price of sell operations\n",
    "commission_entry_buy = 0  #commission of entry buy\n",
    "commission_entry_sell = 0 #commission of entry sell\n",
    "commission_exit_buy = 0   #commission of exit buy\n",
    "commission_exit_sell = 0  #commission of exit sell\n",
    "id_buy_exit = 0\n",
    "id_sell_exit = 0"
   ]
  },
  {
   "cell_type": "code",
   "execution_count": null,
   "metadata": {},
   "outputs": [],
   "source": [
    "margin_buy = 0\n",
    "margin_sell = 0"
   ]
  },
  {
   "cell_type": "code",
   "execution_count": null,
   "metadata": {},
   "outputs": [],
   "source": [
    "range_calcu = False     #flag that indicates if range has been calculated\n",
    "mail_buy_entry = True   #flag that indicates if an email for buy entry has been sent\n",
    "mail_sell_entry = True  #flag that indicates if an email for sell entry has been sent\n",
    "mail_buy_exit = True    #flag that indicates if an email for buy exit has been sent\n",
    "mail_sell_exit = True   #flag that indicates if an email for sell exit has been sent\n",
    "hist_update = False\n",
    "b_sells = False\n",
    "b_buys = False\n",
    "cancel_orders = False"
   ]
  },
  {
   "cell_type": "code",
   "execution_count": null,
   "metadata": {},
   "outputs": [],
   "source": [
    "ranguito = Ranguito(inst,type_con,num_bars,tempo,target,hora_ini,hora_fin,client)"
   ]
  },
  {
   "cell_type": "code",
   "execution_count": null,
   "metadata": {},
   "outputs": [],
   "source": [
    "ib =IB()"
   ]
  },
  {
   "cell_type": "code",
   "execution_count": null,
   "metadata": {},
   "outputs": [],
   "source": [
    "ib.connect(host='127.0.0.1',port=7497,clientId=client)"
   ]
  },
  {
   "cell_type": "code",
   "execution_count": null,
   "metadata": {},
   "outputs": [],
   "source": [
    "contract = Stock(inst, 'SMART', 'USD')"
   ]
  },
  {
   "cell_type": "code",
   "execution_count": null,
   "metadata": {},
   "outputs": [],
   "source": [
    "sched = BackgroundScheduler()\n",
    "sched.start()"
   ]
  },
  {
   "cell_type": "code",
   "execution_count": null,
   "metadata": {},
   "outputs": [],
   "source": [
    "sched_async = AsyncIOScheduler()\n",
    "sched_async.start()"
   ]
  },
  {
   "cell_type": "code",
   "execution_count": null,
   "metadata": {},
   "outputs": [],
   "source": [
    "def times():\n",
    "    global today, hour, weekday\n",
    "    today, hour, weekday = ranguito.day_and_hour()"
   ]
  },
  {
   "cell_type": "code",
   "execution_count": null,
   "metadata": {},
   "outputs": [],
   "source": [
    "sched.add_job(times,'interval', seconds=1)"
   ]
  },
  {
   "cell_type": "code",
   "execution_count": null,
   "metadata": {},
   "outputs": [],
   "source": [
    "def allowing_trading():\n",
    "    global valid_day, valid_hour\n",
    "    valid_day = ranguito.allow_trading_by_day(weekday)\n",
    "    valid_hour = ranguito.allow_trading_by_hour(hour, weekday)"
   ]
  },
  {
   "cell_type": "code",
   "execution_count": null,
   "metadata": {},
   "outputs": [],
   "source": [
    "sched.add_job(allowing_trading,'interval', seconds=1)"
   ]
  },
  {
   "cell_type": "code",
   "execution_count": null,
   "metadata": {},
   "outputs": [],
   "source": [
    "histo = ranguito.download_data(ib,contract)"
   ]
  },
  {
   "cell_type": "code",
   "execution_count": null,
   "metadata": {},
   "outputs": [],
   "source": [
    "histo = ranguito.download_data(ib,contract)\n",
    "hist = util.df(histo)\n",
    "hist = hist.reset_index()\n",
    "hist = hist.set_index('date')\n",
    "hist = hist[['open', 'high', 'low', 'close']]"
   ]
  },
  {
   "cell_type": "code",
   "execution_count": null,
   "metadata": {},
   "outputs": [],
   "source": [
    "hist.tail()"
   ]
  },
  {
   "cell_type": "code",
   "execution_count": null,
   "metadata": {},
   "outputs": [],
   "source": [
    "def convert_historical():\n",
    "    global hist\n",
    "    global hist_update\n",
    "    hist = util.df(histo)\n",
    "    hist = hist.reset_index()\n",
    "    hist = hist.set_index('date')\n",
    "    hist = hist[['open', 'high', 'low', 'close']]\n",
    "    hist_update = True\n",
    "    return(hist)"
   ]
  },
  {
   "cell_type": "code",
   "execution_count": null,
   "metadata": {},
   "outputs": [],
   "source": [
    "sched.add_job(convert_historical,trigger = 'cron', minute = '0-59/1', second = '01')"
   ]
  },
  {
   "cell_type": "code",
   "execution_count": null,
   "metadata": {},
   "outputs": [],
   "source": [
    "[h_i, m_i, s_i] = hora_ini.split(\":\")\n",
    "h_i = int(h_i)\n",
    "m_i = int(m_i)"
   ]
  },
  {
   "cell_type": "code",
   "execution_count": null,
   "metadata": {},
   "outputs": [],
   "source": [
    "hour_exe = datetime.timedelta(hours=h_i, minutes=m_i) + datetime.timedelta(minutes=num_bars*tempo)\n",
    "hour_exe = str(hour_exe)\n",
    "hour_exe"
   ]
  },
  {
   "cell_type": "code",
   "execution_count": null,
   "metadata": {},
   "outputs": [],
   "source": [
    "hour_range = datetime.timedelta(hours=h_i, minutes=m_i) + datetime.timedelta(minutes=num_bars*tempo - tempo)\n",
    "hour_range = str(hour_range)\n",
    "hour_range"
   ]
  },
  {
   "cell_type": "code",
   "execution_count": null,
   "metadata": {},
   "outputs": [],
   "source": [
    "def calc_range():\n",
    "    global maxi, mini \n",
    "    global range_calcu\n",
    "    \n",
    "    try:\n",
    "        if (valid_day == True) and (valid_hour == True):\n",
    "            hour_d = datetime.datetime.strptime(hour, '%H:%M:%S')\n",
    "            hour_exe_d = datetime.datetime.strptime(hour_exe, '%H:%M:%S')\n",
    "            if (hour_d > hour_exe_d) and (range_calcu == False):\n",
    "                maxi,mini = ranguito.max_and_min(hist, today, hour_range, digits)\n",
    "                range_calcu = True\n",
    "    except:\n",
    "        pass"
   ]
  },
  {
   "cell_type": "code",
   "execution_count": null,
   "metadata": {},
   "outputs": [],
   "source": [
    "sched.add_job(calc_range,trigger = 'cron', hour = '8-22', minute = '0-59', second = '0-59/1')"
   ]
  },
  {
   "cell_type": "code",
   "execution_count": null,
   "metadata": {},
   "outputs": [],
   "source": [
    "def entry_lots():\n",
    "    global lots\n",
    "    if (range_calcu == True):\n",
    "        lots = ranguito.lots(account, risk, maxi, mini)"
   ]
  },
  {
   "cell_type": "code",
   "execution_count": null,
   "metadata": {},
   "outputs": [],
   "source": [
    "sched.add_job(entry_lots,trigger = 'cron', hour = '8-20', minute = '0-59', second = '0-59/1')"
   ]
  },
  {
   "cell_type": "code",
   "execution_count": null,
   "metadata": {},
   "outputs": [],
   "source": [
    "#lots = 100"
   ]
  },
  {
   "cell_type": "code",
   "execution_count": null,
   "metadata": {},
   "outputs": [],
   "source": [
    "async def place_orders():\n",
    "    global b_buys, b_sells\n",
    "    global id_buy, id_sell\n",
    "    global id_buy_entry, id_sell_entry\n",
    "    global margin_entry_buy, margin_entry_sell\n",
    "    \n",
    "    if (maxi > 0 or mini > 0) and lots > 0:\n",
    "        #BUY-----------------\n",
    "        if not b_buys:\n",
    "            id_buy, orders_buy = ranguito.bracket_stop_order_send(ib, 'BUY', lots, contract, maxi, maxi + target, mini)\n",
    "            margin_entry_buy = float(ib.whatIfOrder(contract, orders_buy[0]).initMarginChange)\n",
    "            id_buy_entry = id_buy[0]\n",
    "            b_buys = True\n",
    "\n",
    "        #SELL--------------\n",
    "        if not b_sells:\n",
    "            id_sell, orders_sell = ranguito.bracket_stop_order_send(ib, 'SELL', lots, contract, mini, mini - target, maxi)\n",
    "            margin_entry_sell = float(ib.whatIfOrder(contract, orders_sell[0]).initMarginChange)\n",
    "            id_sell_entry = id_sell[0]\n",
    "            b_sells = True\n"
   ]
  },
  {
   "cell_type": "code",
   "execution_count": null,
   "metadata": {},
   "outputs": [],
   "source": [
    "sched_async.add_job(place_orders,trigger = 'interval', seconds = 1)"
   ]
  },
  {
   "cell_type": "code",
   "execution_count": null,
   "metadata": {},
   "outputs": [],
   "source": [
    "#sched_async.add_job(place_orders,trigger = 'cron', minute = '0-59', second = '0-59/1')"
   ]
  },
  {
   "cell_type": "code",
   "execution_count": null,
   "metadata": {},
   "outputs": [],
   "source": [
    "def calc_entry_values():\n",
    "    global fills\n",
    "    global entry_price_b, entry_price_s\n",
    "    global commission_entry_buy, commission_entry_sell\n",
    "    \n",
    "    fills = ranguito.fills(ib)\n",
    "    try:\n",
    "        commission_entry_buy, entry_price_b = ranguito.order_values(fills, id_buy_entry, lots)\n",
    "        commission_entry_sell, entry_price_s = ranguito.order_values(fills, id_sell_entry, lots)\n",
    "    except:\n",
    "        pass"
   ]
  },
  {
   "cell_type": "code",
   "execution_count": null,
   "metadata": {},
   "outputs": [],
   "source": [
    "sched.add_job(calc_entry_values,trigger = 'cron', hour = '8-22', minute = '0-59', second = '0-59/1')"
   ]
  },
  {
   "cell_type": "code",
   "execution_count": null,
   "metadata": {},
   "outputs": [],
   "source": [
    "def calc_margin():\n",
    "    global margin_buy, margin_sell\n",
    "    \n",
    "    if entry_price_b > 0:\n",
    "        margin_buy = round(ranguito.required_margin('BUY', entry_price_b, lots),2)\n",
    "    if entry_price_s > 0:\n",
    "        margin_sell = round(ranguito.required_margin('SELL', entry_price_s, lots),2)"
   ]
  },
  {
   "cell_type": "code",
   "execution_count": null,
   "metadata": {},
   "outputs": [],
   "source": [
    "sched.add_job(calc_margin,trigger = 'cron', hour = '8-22', minute = '0-59', second = '0-59/1')"
   ]
  },
  {
   "cell_type": "code",
   "execution_count": null,
   "metadata": {},
   "outputs": [],
   "source": [
    "def calc_exit_values():\n",
    "    global exit_price_b, exit_price_s\n",
    "    global commission_exit_buy, commission_exit_sell\n",
    "    global profit_s, profit_b\n",
    "    global id_sell_exit, id_buy_exit\n",
    "    \n",
    "    if b_buys or b_sells:  \n",
    "        if id_buy[1] in nested_lookup('orderId',fills):\n",
    "            id_sell_exit = id_buy[1]\n",
    "        elif id_buy[2] in nested_lookup('orderId',fills):\n",
    "            id_sell_exit = id_buy[2]\n",
    "        if id_sell[1] in nested_lookup('orderId',fills):\n",
    "            id_buy_exit = id_sell[1]\n",
    "        elif id_sell[2] in nested_lookup('orderId',fills):\n",
    "            id_buy_exit = id_sell[2]\n",
    "        \n",
    "        #exit from sells\n",
    "        commission_exit_buy, exit_price_b, profit_s = ranguito.order_values(fills, id_buy_exit, lots, exit = True)\n",
    "        #exit from buys\n",
    "        commission_exit_sell, exit_price_s, profit_b = ranguito.order_values(fills, id_sell_exit, lots, exit = True)"
   ]
  },
  {
   "cell_type": "code",
   "execution_count": null,
   "metadata": {},
   "outputs": [],
   "source": [
    "sched.add_job(calc_exit_values,trigger = 'cron', hour = '8-22', minute = '0-59', second = '0-59/1')"
   ]
  },
  {
   "cell_type": "code",
   "execution_count": null,
   "metadata": {},
   "outputs": [],
   "source": [
    "def calc_final_profit():\n",
    "    global final_profit_buy, final_profit_sell\n",
    "    global final_profit_buy_usd, final_profit_sell_usd\n",
    "    if (entry_price_b > 0) and (exit_price_s > 0):\n",
    "        final_profit_buy = round((exit_price_s - entry_price_b)/tick_val,0)\n",
    "        final_profit_buy_usd = round(((exit_price_s - entry_price_b) * lots) - commission_entry_buy - commission_exit_sell,2)\n",
    "    if (entry_price_s > 0) and (exit_price_b > 0):\n",
    "        final_profit_sell = round((entry_price_s - exit_price_b)/tick_val,0)\n",
    "        final_profit_sell_usd = round(((entry_price_s - exit_price_b) * lots) - commission_entry_sell - commission_exit_buy,2)"
   ]
  },
  {
   "cell_type": "code",
   "execution_count": null,
   "metadata": {},
   "outputs": [],
   "source": [
    "sched.add_job(calc_final_profit,trigger = 'cron', hour = '8-22', minute = '0-59', second = '0-59/1')"
   ]
  },
  {
   "cell_type": "code",
   "execution_count": null,
   "metadata": {},
   "outputs": [],
   "source": [
    "async def close_all():\n",
    "    global exit_price_b, exit_price_s\n",
    "    global commission_exit_buy, commission_exit_sell\n",
    "    global profit_s, profit_b\n",
    "    global id_sell_exit, id_buy_exit\n",
    "    global cancel_orders\n",
    "    if (not valid_day or not valid_hour) and (b_buys or b_sells) and (not cancel_orders):\n",
    "        ib.reqGlobalCancel()\n",
    "        cancel_orders = True\n",
    "        if exit_price_b == 0 or exit_price_s == 0:\n",
    "            if ib.positions()[0].contract.symbol == inst:\n",
    "                open_lots = ib.positions()[0].position\n",
    "                if open_lots > 0:\n",
    "                    id_sell_exit, margin_sell_exit = ranguito.order_send(ib, 'SELL', abs(open_lots), contract)\n",
    "                    commission_exit_sell, exit_price_s, profit_b = ranguito.order_values(fills, id_sell_exit, lots, exit = True)\n",
    "                else:\n",
    "                    id_buy_exit, margin_buy_exit = ranguito.order_send(ib, 'BUY', abs(open_lots), contract)\n",
    "                    commission_exit_buy, exit_price_b, profit_s = ranguito.order_values(fills, id_buy_exit, lots, exit = True)"
   ]
  },
  {
   "cell_type": "code",
   "execution_count": null,
   "metadata": {},
   "outputs": [],
   "source": [
    "sched_async.add_job(close_all,trigger = 'interval', seconds = 1)"
   ]
  },
  {
   "cell_type": "code",
   "execution_count": null,
   "metadata": {},
   "outputs": [],
   "source": [
    "#sched_async.add_job(close_all, 'cron', hour = 11, minute = 22)"
   ]
  },
  {
   "cell_type": "code",
   "execution_count": null,
   "metadata": {},
   "outputs": [],
   "source": [
    "def sending_emails():\n",
    "    global mail_buy_entry, mail_sell_entry, mail_buy_exit, mail_sell_exit\n",
    "    #Mail for entries\n",
    "    if (entry_price_b > 0) and (mail_buy_entry == True):\n",
    "        subject_entry_buy = 'Entry Buy Notification: Ranguito'\n",
    "        msg_entry_buy = 'Buy Market in ' + str(inst) + '\\nPrice: ' + str(entry_price_b) +\\\n",
    "                        '\\nLots: ' + str(lots) + '\\nAt: ' + str(hour) +\\\n",
    "                        '\\nReq.Margin: ' + str(margin_buy) +\\\n",
    "                        '\\nReq.Margin(ib): ' + str(margin_entry_buy)\n",
    "        ranguito.send_email(subject_entry_buy, msg_entry_buy, mails)\n",
    "        mail_buy_entry = False\n",
    "    if (entry_price_s > 0) and (mail_sell_entry == True):  \n",
    "        subject_entry_sell = 'Entry Sell Notification: Ranguito'\n",
    "        msg_entry_sell = 'Sell Market in ' + str(inst) + '\\nPrice: ' + str(entry_price_s) +\\\n",
    "                         '\\nLots: ' + str(lots) + '\\nAt: ' + str(hour) +\\\n",
    "                         '\\nReq.Margin: ' + str(margin_sell) +\\\n",
    "                         '\\nReq.Margin(ib): ' + str(margin_entry_sell)\n",
    "        ranguito.send_email(subject_entry_sell, msg_entry_sell, mails)\n",
    "        mail_sell_entry = False\n",
    "    \n",
    "    #Mail for exits\n",
    "    if (mail_buy_entry == False) and (exit_price_s > 0) and (mail_buy_exit == True) :\n",
    "        subject_exit_buy = 'Exit Buy Notification: Ranguito'\n",
    "        msg_exit_buy = 'Buy Closed in ' + str(inst) + '\\nPrice: ' + str(exit_price_s) +\\\n",
    "                       '\\nProfit(ticks): ' + str(final_profit_buy) + '\\nProfit(USD): ' + str(final_profit_buy_usd) +\\\n",
    "                       '\\nProfit(USD-ib): ' + str(profit_b) +\\\n",
    "                       '\\ncommissions: ' + str(commission_entry_buy + commission_exit_sell) +\\\n",
    "                       '\\nAt: ' + str(hour)\n",
    "        ranguito.send_email(subject_exit_buy, msg_exit_buy, mails)\n",
    "        mail_buy_exit = False\n",
    "    if (mail_sell_entry == False) and (exit_price_b > 0) and (mail_sell_exit == True) :\n",
    "        subject_exit_sell = 'Exit Sell Notification: Ranguito'\n",
    "        msg_exit_sell = 'Sell Closed in ' + str(inst) + '\\nPrice: ' + str(exit_price_b) +\\\n",
    "                        '\\nProfit(ticks): ' + str(final_profit_sell) + '\\nProfit(USD): ' + str(final_profit_sell_usd) +\\\n",
    "                        '\\nProfit(USD-ib): ' + str(profit_s) +\\\n",
    "                        '\\ncommissions: ' + str(commission_entry_sell + commission_exit_buy) +\\\n",
    "                        '\\nAt: ' + str(hour)\n",
    "        ranguito.send_email(subject_exit_sell, msg_exit_sell, mails)\n",
    "        mail_sell_exit = False"
   ]
  },
  {
   "cell_type": "code",
   "execution_count": null,
   "metadata": {},
   "outputs": [],
   "source": [
    "sched.add_job(sending_emails, trigger = 'cron', hour = '8-22', minute = '0-59', second = '0-59/10')"
   ]
  },
  {
   "cell_type": "code",
   "execution_count": null,
   "metadata": {},
   "outputs": [],
   "source": []
  }
 ],
 "metadata": {
  "kernelspec": {
   "display_name": "Python 3",
   "language": "python",
   "name": "python3"
  },
  "language_info": {
   "codemirror_mode": {
    "name": "ipython",
    "version": 3
   },
   "file_extension": ".py",
   "mimetype": "text/x-python",
   "name": "python",
   "nbconvert_exporter": "python",
   "pygments_lexer": "ipython3",
   "version": "3.7.3"
  }
 },
 "nbformat": 4,
 "nbformat_minor": 2
}
